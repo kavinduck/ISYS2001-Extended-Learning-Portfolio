{
  "nbformat": 4,
  "nbformat_minor": 0,
  "metadata": {
    "colab": {
      "provenance": [],
      "authorship_tag": "ABX9TyMd2hx8EVK6vhp41erKYxKW",
      "include_colab_link": true
    },
    "kernelspec": {
      "name": "python3",
      "display_name": "Python 3"
    },
    "language_info": {
      "name": "python"
    }
  },
  "cells": [
    {
      "cell_type": "markdown",
      "metadata": {
        "id": "view-in-github",
        "colab_type": "text"
      },
      "source": [
        "<a href=\"https://colab.research.google.com/github/kavinduck/ISYS2001-Extended-Learning-Portfolio/blob/main/Untitled12.ipynb\" target=\"_parent\"><img src=\"https://colab.research.google.com/assets/colab-badge.svg\" alt=\"Open In Colab\"/></a>"
      ]
    },
    {
      "cell_type": "code",
      "execution_count": null,
      "metadata": {
        "colab": {
          "base_uri": "https://localhost:8080/"
        },
        "id": "Cd-vR2ENChYo",
        "outputId": "6cd394fa-2bf9-43dc-d588-4477d8ceba4f"
      },
      "outputs": [
        {
          "output_type": "stream",
          "name": "stdout",
          "text": [
            "\n",
            "Library Menu:\n",
            "1. Add Book\n",
            "2. Remove Book\n",
            "3. List All Books\n",
            "4. Search Book\n",
            "5. Update Book\n",
            "6. Quit\n"
          ]
        }
      ],
      "source": [
        "import time\n",
        "\n",
        "class Book:\n",
        "    def __init__(self, title, author, pubYear):\n",
        "        self.title = title\n",
        "        self.author = author\n",
        "        self.pubYear = pubYear\n",
        "\n",
        "    def __str__(self):\n",
        "        return f\"{self.title} by {self.author} (Published in {self.pubYear})\"\n",
        "\n",
        "class Library:\n",
        "    def __init__(self):\n",
        "        self.books = []\n",
        "\n",
        "    def add_book(self):\n",
        "        title = input(\"Enter the book title: \")\n",
        "        author = input(\"Enter the author's name: \")\n",
        "        pubYear = input(\"Enter the publication year: \")\n",
        "        new_book = Book(title, author, pubYear)\n",
        "        self.books.append(new_book)\n",
        "        print(f\"Book {title} added!\")\n",
        "\n",
        "    def remove_book(self):\n",
        "        title = input(\"Enter the title of the book to remove: \")\n",
        "        for book in self.books:\n",
        "            if book.title == title:\n",
        "                self.books.remove(book)\n",
        "                print(f\"Book {title} removed!\")\n",
        "                return\n",
        "        print(\"Book not found!\")\n",
        "\n",
        "    def list_all_books(self):\n",
        "        for book in self.books:\n",
        "            print(book)\n",
        "        time.sleep(2)\n",
        "\n",
        "    def search_book(self):\n",
        "        title = input(\"Enter the title of the book to search: \")\n",
        "        for book in self.books:\n",
        "            if book.title == title:\n",
        "                print(book)\n",
        "                return\n",
        "        print(\"Book not found!\")\n",
        "\n",
        "    def update_book(self):\n",
        "        title = input(\"Enter the title of the book to update: \")\n",
        "        for book in self.books:\n",
        "            if book.title == title:\n",
        "                new_title = input(\"Enter the new title: \")\n",
        "                new_author = input(\"Enter the new author's name: \")\n",
        "                new_pubYear = input(\"Enter the new publication year: \")\n",
        "                book.title = new_title if new_title else book.title\n",
        "                book.author = new_author if new_author else book.author\n",
        "                book.pubYear = new_pubYear if new_pubYear else book.pubYear\n",
        "                print(f\"Book {title} updated!\")\n",
        "                return\n",
        "        print(\"Book not found!\")\n",
        "\n",
        "def main():\n",
        "    library = Library()\n",
        "    while True:\n",
        "        print(\"\\nLibrary Menu:\")\n",
        "        print(\"1. Add Book\")\n",
        "        print(\"2. Remove Book\")\n",
        "        print(\"3. List All Books\")\n",
        "        print(\"4. Search Book\")\n",
        "        print(\"5. Update Book\")\n",
        "        print(\"6. Quit\")\n",
        "        choice = input(\"Enter your choice: \")\n",
        "        if choice == \"1\":\n",
        "            library.add_book()\n",
        "        elif choice == \"2\":\n",
        "            library.remove_book()\n",
        "        elif choice == \"3\":\n",
        "            library.list_all_books()\n",
        "        elif choice == \"4\":\n",
        "            library.search_book()\n",
        "        elif choice == \"5\":\n",
        "            library.update_book()\n",
        "        elif choice == \"6\":\n",
        "            print(\"Goodbye!\")\n",
        "            break\n",
        "        else:\n",
        "            print(\"Invalid choice. Please try again.\")\n",
        "\n",
        "if __name__ == \"__main__\":\n",
        "    main()\n"
      ]
    },
    {
      "cell_type": "code",
      "source": [],
      "metadata": {
        "id": "VTJlVKL4Cj0e"
      },
      "execution_count": null,
      "outputs": []
    }
  ]
}
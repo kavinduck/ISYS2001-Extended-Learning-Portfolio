{
  "nbformat": 4,
  "nbformat_minor": 0,
  "metadata": {
    "colab": {
      "private_outputs": true,
      "provenance": [],
      "include_colab_link": true
    },
    "kernelspec": {
      "name": "python3",
      "display_name": "Python 3"
    },
    "language_info": {
      "name": "python"
    }
  },
  "cells": [
    {
      "cell_type": "markdown",
      "metadata": {
        "id": "view-in-github",
        "colab_type": "text"
      },
      "source": [
        "<a href=\"https://colab.research.google.com/github/kavinduck/ISYS2001-Extended-Learning-Portfolio/blob/main/assessment_questions_s1_2023.ipynb\" target=\"_parent\"><img src=\"https://colab.research.google.com/assets/colab-badge.svg\" alt=\"Open In Colab\"/></a>"
      ]
    },
    {
      "cell_type": "markdown",
      "source": [
        "<center>\n",
        "\n",
        "# Extended Learning Portfolio\n",
        "\n",
        "**ISYS2001 Introduction to Business Programming**\n",
        "\n",
        "<small>School of Management\n",
        "\n",
        "Semester 1 2023\n",
        "</small>\n",
        "</center>\n",
        "\n",
        "This examination is an open-book format. You are permitted to utilise a variety of resources, including textbooks, web content, and AI tools, to complete the exam. However, it's important to note that all work submitted must be your own. Any work or ideas not your own must be properly referenced.\n",
        "\n",
        "Please refrain from discussing your responses to these questions with fellow students. If you have any inquiries about the questions about this assessment, please contact the instructor directly.  Any questions submitted to the instructor concerning this assesment will have the question and responses will be posted to this discussion forum.\n",
        "\n",
        "The examination duration is a total of 24 hours. This time frame begins at the predetermined exam start time and does not depend on when you commence the download. If you have accommodations under a CAP arrangement, the duration of the exam will be adjusted accordingly. If you feel that your CAP accommodations have not been satisfactorily implemented, please reach out to me immediately.\n",
        "\n",
        "This examination consists of four questions in total, and you are required to provide answers to all of them. Each question should be contained within its own notebook, with the exception of Question Four, which can be compiled in a Microsoft Word document. To submit your answers, please establish a private GitHub repository and upload all of your responses to the designated questions, inclusive of the Word document for Question Four, to this repository.\n",
        "\n",
        "Upon completion of all the questions, proceed to download the zip file of your GitHub repository. This file should be submitted via the link provided on Blackboard. Additionally, a separate submission of the Word document for Question Four must be made through the Turnitin link available on Blackboard."
      ],
      "metadata": {
        "id": "1M9yB5U0yefZ"
      }
    },
    {
      "cell_type": "markdown",
      "source": [
        "# Question 1\n",
        "\n",
        "Write a Python program within this or another notebook that performs advanced file analysis. The program should prompt the user to enter the path to a text file and allow them to choose from various analysis options:\n",
        "\n",
        "* Counting the number of lines.\n",
        "* Counting the total number of words.\n",
        "* Counting the total number of characters, both including and excluding whitespace.\n",
        "* Identifying the frequency of each word in the text.\n",
        "* Identifying the top 5 most common words in the text.\n",
        "\n",
        "After receiving the user input, your program should read the file and perform the chosen analysis, outputting the results in a clear, human-readable format.\n",
        "\n",
        "*Question subparts:*\n",
        "\n",
        "1. Implement the notebook program as described above. Your program should be robust and handle possible edge cases, such as file not found or incorrect input from the user.\n",
        "2. Write a brief description of your program, explaining how to use it and what each analysis option does. This description should be written as if for other developers or users who might use your tool.\n",
        "3. Write a few test cases to validate your tool. Consider edge cases such as empty files, very large files, files with unusual characters, and so on.\n",
        "4. Discuss how you would modify your tool to analyze binary files, or large files that do not fit into memory. What kind of analysis could be useful in these cases?\n",
        "5. Provide a few example text files and show the output of your program when run with these files.\n",
        "\n",
        "Remember to include necessary error handling in your program to make it robust and reliable.\n",
        "\n",
        "**[40 Marks]**"
      ],
      "metadata": {
        "id": "w3Y-At852J91"
      }
    },
    {
      "cell_type": "markdown",
      "source": [
        "1."
      ],
      "metadata": {
        "id": "FcGLyyQId_9B"
      }
    },
    {
      "cell_type": "code",
      "source": [
        "import os,string\n",
        "from collections import Counter as C\n",
        "\n",
        "#To count number of lines\n",
        "def lines_counting(text file_path):\n",
        "  file = open(file_path, 'c')\n",
        "  lines = file.readliness()\n",
        "\n",
        "#To count total number of words\n",
        "def Words_counting (text file_path):\n",
        "  file = open(file_path, 'c')\n",
        "  words = file.read().split()\n",
        "\n",
        "#To count total number of characters\n",
        "def characters_counting (text file_path, include_whitespace):\n",
        "  file = open(file_path, 'c')\n",
        "  text = file.read()\n",
        "\n",
        "#To identify frequency\n",
        "def frequency_word (text file_path):\n",
        "  file = open(file_path, 'c')\n",
        "  words = file.read().split()\n",
        "\n",
        "#To identify top 5 most common words\n",
        "def common_words(text file_path, number_words = 5)\n",
        "  file = open(file_path, 'c')\n",
        "  words = word_count.most_common(num_words)\n",
        "\n",
        "#To analyze file path\n",
        "  print (\"count number of lines\")\n",
        "  print (\"count total number of words\")\n",
        "  print (\"count total number of characters\")\n",
        "  print (\"identify frequency\")\n",
        "  print (\"identify top 5 most common words\")\n",
        "\n",
        "#Use differecr test cases\n",
        "file_path = \"test_file.test\"\n",
        "\n",
        "#Empty file\n",
        "empty_file_path = \"empty_file.test\"\n",
        " file = open(empty_file_path, 'c')\n",
        "\n",
        "#Large file test case\n",
        "large_file_path = \"large_file.test\"\n",
        "  file = open(large_file_path, 'c')\n",
        "\n",
        "#Unusual character test\n",
        "unusual_character_path = \"unusual_character.test\"\n",
        "  file = open(unusual_character_path, 'c')\n",
        "\n"
      ],
      "metadata": {
        "id": "-F4TqcHGOv0a"
      },
      "execution_count": null,
      "outputs": []
    },
    {
      "cell_type": "markdown",
      "source": [
        "2."
      ],
      "metadata": {
        "id": "eG8DkynweB7I"
      }
    },
    {
      "cell_type": "markdown",
      "source": [
        "This program helps users to performs advanced file analysis in any given text file. It gives several options including counting number of lines, counting total number of words, counting total number of characters, to identify frequency of each words and identify top 5 most common word in any given text file. First I import 'os', 'string', and 'counter' that helps to import relevant data modules.\n",
        "**lines_counting(text file_path)** function helps reader to read line by line and count total number of lines in the text. **Words_counting (text file_path):** the files helps reader to identify how many words are there in a given text file. **characters_counting (text file_path, include_whitespace): ** helps user to identify count total number of characters in a word file. **frequency_word (text file_path):** This will helps to count frequency of any given text file. **common_words(text file_path, number_words = 5)** The code use for identify 5 most commonly used words in any given text."
      ],
      "metadata": {
        "id": "Iivwv5YjVzK7"
      }
    },
    {
      "cell_type": "markdown",
      "source": [
        "3."
      ],
      "metadata": {
        "id": "qpAF_cfOj3H3"
      }
    },
    {
      "cell_type": "markdown",
      "source": [
        "\n",
        "\n",
        "1.   Binary Files: The python program can be modified to read it in Binary form instead of text mode. User can count number of lines by using byte level approach. Rather than counting and frequencing words, it focus on analyzing byte sequences and patterns that are relevant to binary form.\n",
        "2.   Large Files: instead of reading whole text file at once, it can read through line by line. In this method, to analyze word counting user can use streaming algorithms to make it easier.\n",
        "\n"
      ],
      "metadata": {
        "id": "lJP27Ib-j5ls"
      }
    },
    {
      "cell_type": "markdown",
      "source": [
        "# Question 2\n",
        "\n",
        "**Question:**\n",
        "\n",
        "As a new junior developer at EcommEasy, an e-commerce platform company, you're assigned to debug and refactor a piece of code left by one of the departed team members. This code is meant to determine if a customer is eligible for a certain promotional discount based on their total order value.\n",
        "\n",
        "Unfortunately, the code is obfuscated, lacks documentation, and doesn't function as expected. Your task is to identify the error, correct it, and refactor the code according to the best industry practices, which include clear variable naming, detailed comments, error handling, and overall code readability.\n",
        "\n",
        "Here is the problematic code:\n",
        "\n",
        "```python\n",
        "def promo(o):\n",
        "    p = None\n",
        "    if o > 50 and o < 100:\n",
        "        p = 5\n",
        "    elif o > 100:\n",
        "        p = 10\n",
        "    else:\n",
        "        p = 0\n",
        "    if o <= 0 or o is None:\n",
        "        raise ValueError(\"Order value not valid!\")\n",
        "    return o*(p/100)\n",
        "```\n",
        "\n",
        "*Question subparts:*\n",
        "\n",
        "1. What is the error in the above code and why does it fail to calculate the promotional discount correctly?\n",
        "2. How would you correct the error?\n",
        "3. How would you refactor this code to align it with industry best practices? Write the refactored code within this or another notebook. Please include appropriate variable names, comments, error handling, and a basic explanation of the code for a layperson.\n",
        "4. Write a few test cases to confirm the code is functioning as expected.\n",
        "\n",
        "Hint: The promo function is supposed to apply a 5% discount if the order total is between \\$50 and \\$100 (inclusive), and a 10% discount if the order total exceeds \\$100. Orders less than or equal to \\$0 or null should raise an exception.\n",
        "\n",
        "**[20 Marks]**"
      ],
      "metadata": {
        "id": "yYD1q2Mx95vB"
      }
    },
    {
      "cell_type": "markdown",
      "source": [
        "#Answers for Q2"
      ],
      "metadata": {
        "id": "xl0xPrgtbdGt"
      }
    },
    {
      "cell_type": "markdown",
      "source": [
        "1. The error in the above code is that the percentage of discount is incorrectly calculated. According to the code the order value needs to validate in the begining of the function by using \"o <= 0 or o is None\" code. If order value is 'None' or < 0, a Value Error will be raised. Variable 'P' is equals to 0. If value of th eorder is between $50 and $100, P is equals to 5, whereas, if the order value is > 100, P is equals to 10. At the end the related discount will be calculated by multiplyin gorder value with the percentage given.\n"
      ],
      "metadata": {
        "id": "k6Xa4An-WrVs"
      }
    },
    {
      "cell_type": "markdown",
      "source": [
        "  2."
      ],
      "metadata": {
        "id": "ZXfr7L59c115"
      }
    },
    {
      "cell_type": "code",
      "source": [
        "def promo(o):\n",
        "  if o <= 0 or o is None:\n",
        "    raise ValueError(\"Order value not valid!\")\n",
        "    p = 0\n",
        "    if o > 50 and o < 100:\n",
        "        p = 5\n",
        "    elif o > 100:\n",
        "        p = 10\n",
        "    else:\n",
        "      p = 0\n",
        "\n",
        "    return o * (p / 100)\n",
        "\n",
        "\n"
      ],
      "metadata": {
        "id": "04Ow6n6bblNj"
      },
      "execution_count": null,
      "outputs": []
    },
    {
      "cell_type": "markdown",
      "source": [
        "  3."
      ],
      "metadata": {
        "id": "1ykGVXIKc-so"
      }
    },
    {
      "cell_type": "code",
      "source": [
        "def promotional_discount(contractual_value):\n",
        "    # Input Verification\n",
        "    if contractual_value <= 0 or contractual_value is None:\n",
        "        Percentage_discount = 0\n",
        "\n",
        "    # To calculate percentage discount\n",
        "    if 50 < contractual_value < 100:\n",
        "        Percentage_discount = 5\n",
        "    if contractual_value > 100:\n",
        "        Percentage_discount = 10\n",
        "\n",
        "    # Calculate promotional discount\n",
        "    promotional_discount = contractual_value * (Percentage_discount / 100)\n",
        "    return promotional_discount\n",
        "\n"
      ],
      "metadata": {
        "id": "sX_OQ-xLdrBc"
      },
      "execution_count": null,
      "outputs": []
    },
    {
      "cell_type": "markdown",
      "source": [
        "The function is defined as Prmotional_Discount to make it a better one. The purpose of this funtion is to calculate the eligibility of different customers for discounts by referencing to their total contractual value. The input 0 is defined as contractual_value from the first function. Whereas the input p is defined as Percentage_discount for purpose of make it clear. Value comprison operators are used in this python program to give a reader a clear understanding.\n",
        "\n"
      ],
      "metadata": {
        "id": "BUmnQ3PhmNXT"
      }
    },
    {
      "cell_type": "markdown",
      "source": [
        "  4."
      ],
      "metadata": {
        "id": "vnQyLlBBopf-"
      }
    },
    {
      "cell_type": "code",
      "source": [
        "def promo(o):\n",
        "\n",
        "# Input Verification\n",
        "  if o <= 0 or o is None:\n",
        "    raise ValueError(\"Order value not valid!\")\n",
        "\n",
        "# To calculate percentage discount\n",
        "    p = 0\n",
        "    if o > 50 and o < 100:\n",
        "        p = 5\n",
        "    elif o > 100:\n",
        "        p = 10\n",
        "    else:\n",
        "      p = 0\n",
        "# Calculate promotional discount\n",
        "    return o * (p / 100)\n",
        "\n",
        "# test case\n",
        "o = 95\n",
        "\n",
        "# relevant function\n",
        "result = promo(o)\n",
        "\n",
        "# Print the result\n",
        "print(result)\n"
      ],
      "metadata": {
        "id": "u-4kj7ySwaJT"
      },
      "execution_count": null,
      "outputs": []
    },
    {
      "cell_type": "code",
      "source": [
        "def promo(o):\n",
        "  if o <= 0 or o is None:\n",
        "    raise ValueError(\"Order value not valid!\")\n",
        "    p = 50\n",
        "    if o > 50 and o < 100:\n",
        "        p = 5\n",
        "    elif o > 100:\n",
        "        p = 10\n",
        "    else:\n",
        "      p = 50\n",
        "\n",
        "    return o * (p / 100)\n",
        "\n",
        "# test case\n",
        "o = 1000\n",
        "\n",
        "# relevant function\n",
        "result = promo(o)\n",
        "\n",
        "# Print the result\n",
        "print(result)"
      ],
      "metadata": {
        "id": "dl-RV9lZ044i"
      },
      "execution_count": null,
      "outputs": []
    },
    {
      "cell_type": "code",
      "source": [
        "def promo(o):\n",
        "  if o <= 0 or o is None:\n",
        "    raise ValueError(\"Order value not valid!\")\n",
        "    p = 0\n",
        "    if o > 50 and o < 100:\n",
        "        p = 5\n",
        "    elif o > 100:\n",
        "        p = 10\n",
        "    else:\n",
        "      p = 0\n",
        "\n",
        "    return o * (p / 100)\n",
        "\n",
        "# test case\n",
        "o = 700\n",
        "\n",
        "# relevant function\n",
        "result = promo(o)\n",
        "\n",
        "# Print the result\n",
        "print(result)"
      ],
      "metadata": {
        "id": "FIsWAo9_0_JU"
      },
      "execution_count": null,
      "outputs": []
    },
    {
      "cell_type": "markdown",
      "source": [
        "#Question 3"
      ],
      "metadata": {
        "id": "7rU0qObLsYby"
      }
    },
    {
      "cell_type": "markdown",
      "source": [
        "\n",
        "You have been given a task to develop a simple script that extracts news articles' title and text from a list of URLs. Your company, DataScrapr, is working on a project to analyze the sentiment of news articles from several news outlets and this task is the first step in the data collection process.\n",
        "\n",
        "The task requires you to use Python, along with the Newspaper3k library, which is a simple and efficient tool for extracting and curating articles.\n",
        "\n",
        "Here is your task:\n",
        "\n",
        "1.Write a Python script that takes a list of URLs as input. Each URL points to a news article.\n",
        "2.For each URL, your script should extract the article's title and the full text of the article.\n",
        "3.The output of your script should be a list of dictionaries. Each dictionary should contain the URL, the article title, and the article text.\n",
        "4.Include error checking in your script to handle possible issues with the URLs or the extraction process.\n",
        "\n",
        "Question subparts:\n",
        "\n",
        "1.Implement the above-described script.\n",
        "2.Explain how your script works and the role of the Newspaper3k library in the script.\n",
        "3.How would you handle potential issues, such as a URL that doesn't point to a valid article or network errors?\n",
        "4.Provide a few example URLs and show the output of your script when run with these URLs.\n",
        "\n",
        "Note: Please be mindful of the terms of use for any website you are scraping, and make sure to respect the website's robots.txt file.\n",
        "\n",
        "[25 marks]"
      ],
      "metadata": {
        "id": "0olzwyBPsUyQ"
      }
    },
    {
      "cell_type": "markdown",
      "source": [
        "#Answers for Q3"
      ],
      "metadata": {
        "id": "RCea_zrN3scD"
      }
    },
    {
      "cell_type": "code",
      "source": [
        "pip install newspaper3k"
      ],
      "metadata": {
        "id": "ZD499o-H3ybh"
      },
      "execution_count": null,
      "outputs": []
    },
    {
      "cell_type": "code",
      "source": [
        "def article_extract(URLs)\n",
        "\n",
        "#extrct article\n",
        "  articles = ()\n",
        "\n",
        "  article = Article(URLS)\n",
        "  article. download()\n",
        "  article.tect()\n",
        "\n",
        "#implementing relevant data\n",
        "\n",
        "  article_data = ('URLs': url, 'title':article title, 'text': article.text)\n",
        "\n",
        "#printing data\n",
        "\n",
        "    print(article_data: URLs)\n",
        "\n",
        "#Example url\n",
        "https://theconversation.com/au/topics/computer-programming-8509\n",
        "https://www.ncbi.nlm.nih.gov/books/NBK554776/\n",
        "\n",
        "  articles = extract_articles(URLs)\n",
        "\n",
        "#Print example url\n",
        "\n",
        "    print(article(URLs))\n",
        "\n",
        "\n",
        "\n",
        "\n",
        "\n",
        "\n",
        "\n"
      ],
      "metadata": {
        "id": "pVR5jZwzJN-q"
      },
      "execution_count": null,
      "outputs": []
    },
    {
      "cell_type": "markdown",
      "source": [
        "2. First I import newspaper3k that includes all th eimportant data that will use for the Python program. Then we define extract article through **extract_article** funtion. Then we import all other relevant informations that has to be include in the program. At the end I import few example articles through **articles = extract_articles(URLs)** funtion."
      ],
      "metadata": {
        "id": "C0ZRIGxUucSg"
      }
    },
    {
      "cell_type": "markdown",
      "source": [
        "3."
      ],
      "metadata": {
        "id": "24HyQMzIuglJ"
      }
    },
    {
      "cell_type": "markdown",
      "source": [
        "If there is an error occur the user can print an error message telling which YRL has the error. This will helps to handle the erro. Also before includes outputs, we check correct data has been uploaded. This ensure that only the valid data has been uploaded. It will helps to minimize errors when implementing the program. Network errors can be occured due to internet connection problems or service errors. To minimize this issue the user can use backoff mechanism to handle temporary network breakdoens. By implementing above mechabisms th euser can ensure that it handle all the potential issues and provide feedbacks on errors."
      ],
      "metadata": {
        "id": "B9EhmW4fukZB"
      }
    },
    {
      "cell_type": "markdown",
      "source": [
        "4."
      ],
      "metadata": {
        "id": "pNEQiboEvoMd"
      }
    },
    {
      "cell_type": "code",
      "source": [],
      "metadata": {
        "id": "BRruOdxYvpEM"
      },
      "execution_count": null,
      "outputs": []
    },
    {
      "cell_type": "markdown",
      "source": [
        "# Question 4\n",
        "\n",
        "Write a reflective report that identifies and discusses what you perceive as the most impactful activity within this course unit, and its contributions to your understanding of an ISYS2001 activity or topic. **Additionally, please incorporate all your weekly journal entries as an appendix to this report.** The report should be prepared in a Microsoft Word document, which will be submitted via the TurnItin link available on Blackboard.\n",
        "\n",
        "**[15 marks]**"
      ],
      "metadata": {
        "id": "YQ0itNBkCClk"
      }
    },
    {
      "cell_type": "code",
      "source": [],
      "metadata": {
        "id": "1MRfZlWQCB_X"
      },
      "execution_count": null,
      "outputs": []
    }
  ]
}
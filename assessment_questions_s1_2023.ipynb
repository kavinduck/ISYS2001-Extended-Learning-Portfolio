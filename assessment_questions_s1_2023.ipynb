{
  "nbformat": 4,
  "nbformat_minor": 0,
  "metadata": {
    "colab": {
      "private_outputs": true,
      "provenance": [],
      "include_colab_link": true
    },
    "kernelspec": {
      "name": "python3",
      "display_name": "Python 3"
    },
    "language_info": {
      "name": "python"
    }
  },
  "cells": [
    {
      "cell_type": "markdown",
      "metadata": {
        "id": "view-in-github",
        "colab_type": "text"
      },
      "source": [
        "<a href=\"https://colab.research.google.com/github/kavinduck/ISYS2001-Extended-Learning-Portfolio/blob/main/assessment_questions_s1_2023.ipynb\" target=\"_parent\"><img src=\"https://colab.research.google.com/assets/colab-badge.svg\" alt=\"Open In Colab\"/></a>"
      ]
    },
    {
      "cell_type": "markdown",
      "source": [
        "<center>\n",
        "\n",
        "# Extended Learning Portfolio\n",
        "\n",
        "**ISYS2001 Introduction to Business Programming**\n",
        "\n",
        "<small>School of Management\n",
        "\n",
        "Semester 1 2023\n",
        "</small>\n",
        "</center>\n",
        "\n",
        "This examination is an open-book format. You are permitted to utilise a variety of resources, including textbooks, web content, and AI tools, to complete the exam. However, it's important to note that all work submitted must be your own. Any work or ideas not your own must be properly referenced.\n",
        "\n",
        "Please refrain from discussing your responses to these questions with fellow students. If you have any inquiries about the questions about this assessment, please contact the instructor directly.  Any questions submitted to the instructor concerning this assesment will have the question and responses will be posted to this discussion forum.\n",
        "\n",
        "The examination duration is a total of 24 hours. This time frame begins at the predetermined exam start time and does not depend on when you commence the download. If you have accommodations under a CAP arrangement, the duration of the exam will be adjusted accordingly. If you feel that your CAP accommodations have not been satisfactorily implemented, please reach out to me immediately.\n",
        "\n",
        "This examination consists of four questions in total, and you are required to provide answers to all of them. Each question should be contained within its own notebook, with the exception of Question Four, which can be compiled in a Microsoft Word document. To submit your answers, please establish a private GitHub repository and upload all of your responses to the designated questions, inclusive of the Word document for Question Four, to this repository.\n",
        "\n",
        "Upon completion of all the questions, proceed to download the zip file of your GitHub repository. This file should be submitted via the link provided on Blackboard. Additionally, a separate submission of the Word document for Question Four must be made through the Turnitin link available on Blackboard."
      ],
      "metadata": {
        "id": "1M9yB5U0yefZ"
      }
    },
    {
      "cell_type": "markdown",
      "source": [
        "# Question 1\n",
        "\n",
        "Write a Python program within this or another notebook that performs advanced file analysis. The program should prompt the user to enter the path to a text file and allow them to choose from various analysis options:\n",
        "\n",
        "* Counting the number of lines.\n",
        "* Counting the total number of words.\n",
        "* Counting the total number of characters, both including and excluding whitespace.\n",
        "* Identifying the frequency of each word in the text.\n",
        "* Identifying the top 5 most common words in the text.\n",
        "\n",
        "After receiving the user input, your program should read the file and perform the chosen analysis, outputting the results in a clear, human-readable format.\n",
        "\n",
        "*Question subparts:*\n",
        "\n",
        "1. Implement the notebook program as described above. Your program should be robust and handle possible edge cases, such as file not found or incorrect input from the user.\n",
        "2. Write a brief description of your program, explaining how to use it and what each analysis option does. This description should be written as if for other developers or users who might use your tool.\n",
        "3. Write a few test cases to validate your tool. Consider edge cases such as empty files, very large files, files with unusual characters, and so on.\n",
        "4. Discuss how you would modify your tool to analyze binary files, or large files that do not fit into memory. What kind of analysis could be useful in these cases?\n",
        "5. Provide a few example text files and show the output of your program when run with these files.\n",
        "\n",
        "Remember to include necessary error handling in your program to make it robust and reliable.\n",
        "\n",
        "**[40 Marks]**"
      ],
      "metadata": {
        "id": "w3Y-At852J91"
      }
    },
    {
      "cell_type": "code",
      "source": [],
      "metadata": {
        "id": "BiZHeIX2Uc1Y"
      },
      "execution_count": null,
      "outputs": []
    },
    {
      "cell_type": "markdown",
      "source": [
        "# Question 2\n",
        "\n",
        "**Question:**\n",
        "\n",
        "As a new junior developer at EcommEasy, an e-commerce platform company, you're assigned to debug and refactor a piece of code left by one of the departed team members. This code is meant to determine if a customer is eligible for a certain promotional discount based on their total order value.\n",
        "\n",
        "Unfortunately, the code is obfuscated, lacks documentation, and doesn't function as expected. Your task is to identify the error, correct it, and refactor the code according to the best industry practices, which include clear variable naming, detailed comments, error handling, and overall code readability.\n",
        "\n",
        "Here is the problematic code:\n",
        "\n",
        "```python\n",
        "def promo(o):\n",
        "    p = None\n",
        "    if o > 50 and o < 100:\n",
        "        p = 5\n",
        "    elif o > 100:\n",
        "        p = 10\n",
        "    else:\n",
        "        p = 0\n",
        "    if o <= 0 or o is None:\n",
        "        raise ValueError(\"Order value not valid!\")\n",
        "    return o*(p/100)\n",
        "```\n",
        "\n",
        "*Question subparts:*\n",
        "\n",
        "1. What is the error in the above code and why does it fail to calculate the promotional discount correctly?\n",
        "2. How would you correct the error?\n",
        "3. How would you refactor this code to align it with industry best practices? Write the refactored code within this or another notebook. Please include appropriate variable names, comments, error handling, and a basic explanation of the code for a layperson.\n",
        "4. Write a few test cases to confirm the code is functioning as expected.\n",
        "\n",
        "Hint: The promo function is supposed to apply a 5% discount if the order total is between \\$50 and \\$100 (inclusive), and a 10% discount if the order total exceeds \\$100. Orders less than or equal to \\$0 or null should raise an exception.\n",
        "\n",
        "**[20 Marks]**"
      ],
      "metadata": {
        "id": "yYD1q2Mx95vB"
      }
    },
    {
      "cell_type": "markdown",
      "source": [
        "#Answers for Q2"
      ],
      "metadata": {
        "id": "xl0xPrgtbdGt"
      }
    },
    {
      "cell_type": "markdown",
      "source": [
        "1. The error in the above code is that the percentage of discount is incorrectly calculated. According to the code the order value needs to validate in the begining of the function by using \"o <= 0 or o is None\" code. If order value is 'None' or < 0, a Value Error will be raised. Variable 'P' is equals to 0. If value of th eorder is between $50 and $100, P is equals to 5, whereas, if the order value is > 100, P is equals to 10. At the end the related discount will be calculated by multiplyin gorder value with the percentage given.\n"
      ],
      "metadata": {
        "id": "k6Xa4An-WrVs"
      }
    },
    {
      "cell_type": "markdown",
      "source": [
        "  2."
      ],
      "metadata": {
        "id": "ZXfr7L59c115"
      }
    },
    {
      "cell_type": "code",
      "source": [
        "def promo(o):\n",
        "  if o <= 0 or o is None:\n",
        "    raise ValueError(\"Order value not valid!\")\n",
        "    p = 0\n",
        "    if o > 50 and o < 100:\n",
        "        p = 5\n",
        "    elif o > 100:\n",
        "        p = 10\n",
        "    else:\n",
        "      p = 0\n",
        "\n",
        "    return o * (p / 100)\n",
        "\n",
        "\n",
        ""
      ],
      "metadata": {
        "id": "04Ow6n6bblNj"
      },
      "execution_count": null,
      "outputs": []
    },
    {
      "cell_type": "markdown",
      "source": [
        "  3."
      ],
      "metadata": {
        "id": "1ykGVXIKc-so"
      }
    },
    {
      "cell_type": "code",
      "source": [
        "def promotional_discount(contractual_value):\n",
        "    # Input Verification\n",
        "    if contractual_value <= 0 or contractual_value is None:\n",
        "        Percentage_discount = 0\n",
        "\n",
        "    # To calculate percentage discount\n",
        "    if 50 < contractual_value < 100:\n",
        "        Percentage_discount = 5\n",
        "    if contractual_value > 100:\n",
        "        Percentage_discount = 10\n",
        "\n",
        "    # Calculate promotional discount\n",
        "    promotional_discount = contractual_value * (Percentage_discount / 100)\n",
        "    return promotional_discount\n",
        "\n"
      ],
      "metadata": {
        "id": "sX_OQ-xLdrBc"
      },
      "execution_count": null,
      "outputs": []
    },
    {
      "cell_type": "markdown",
      "source": [
        "The function is defined as Prmotional_Discount to make it a better one. The purpose of this funtion is to calculate the eligibility of different customers for discounts by referencing to their total contractual value. The input 0 is defined as contractual_value from the first function. Whereas the input p is defined as Percentage_discount for purpose of make it clear. Value comprison operators are used in this python program to give a reader a clear understanding.\n",
        "\n"
      ],
      "metadata": {
        "id": "BUmnQ3PhmNXT"
      }
    },
    {
      "cell_type": "markdown",
      "source": [
        "  4."
      ],
      "metadata": {
        "id": "vnQyLlBBopf-"
      }
    },
    {
      "cell_type": "code",
      "source": [
        "def promo(o):\n",
        "  if o <= 0 or o is None:\n",
        "    raise ValueError(\"Order value not valid!\")\n",
        "    p = 0\n",
        "    if o > 50 and o < 100:\n",
        "        p = 5\n",
        "    elif o > 100:\n",
        "        p = 10\n",
        "    else:\n",
        "      p = 0\n",
        "\n",
        "    return o * (p / 100)\n",
        "\n",
        "# test case\n",
        "o = 95\n",
        "\n",
        "# relevant function\n",
        "result = promo(o)\n",
        "\n",
        "# Print the result\n",
        "print(result)\n"
      ],
      "metadata": {
        "id": "u-4kj7ySwaJT"
      },
      "execution_count": null,
      "outputs": []
    },
    {
      "cell_type": "code",
      "source": [
        "def promo(o):\n",
        "  if o <= 0 or o is None:\n",
        "    raise ValueError(\"Order value not valid!\")\n",
        "    p = 50\n",
        "    if o > 50 and o < 100:\n",
        "        p = 5\n",
        "    elif o > 100:\n",
        "        p = 10\n",
        "    else:\n",
        "      p = 50\n",
        "\n",
        "    return o * (p / 100)\n",
        "\n",
        "# test case\n",
        "o = 1000\n",
        "\n",
        "# relevant function\n",
        "result = promo(o)\n",
        "\n",
        "# Print the result\n",
        "print(result)"
      ],
      "metadata": {
        "id": "dl-RV9lZ044i"
      },
      "execution_count": null,
      "outputs": []
    },
    {
      "cell_type": "code",
      "source": [
        "def promo(o):\n",
        "  if o <= 0 or o is None:\n",
        "    raise ValueError(\"Order value not valid!\")\n",
        "    p = 0\n",
        "    if o > 50 and o < 100:\n",
        "        p = 5\n",
        "    elif o > 100:\n",
        "        p = 10\n",
        "    else:\n",
        "      p = 0\n",
        "\n",
        "    return o * (p / 100)\n",
        "\n",
        "# test case\n",
        "o = 700\n",
        "\n",
        "# relevant function\n",
        "result = promo(o)\n",
        "\n",
        "# Print the result\n",
        "print(result)"
      ],
      "metadata": {
        "id": "FIsWAo9_0_JU"
      },
      "execution_count": null,
      "outputs": []
    },
    {
      "cell_type": "markdown",
      "source": [
        "#Question 3"
      ],
      "metadata": {
        "id": "7rU0qObLsYby"
      }
    },
    {
      "cell_type": "markdown",
      "source": [
        "\n",
        "You have been given a task to develop a simple script that extracts news articles' title and text from a list of URLs. Your company, DataScrapr, is working on a project to analyze the sentiment of news articles from several news outlets and this task is the first step in the data collection process.\n",
        "\n",
        "The task requires you to use Python, along with the Newspaper3k library, which is a simple and efficient tool for extracting and curating articles.\n",
        "\n",
        "Here is your task:\n",
        "\n",
        "1.Write a Python script that takes a list of URLs as input. Each URL points to a news article.\n",
        "2.For each URL, your script should extract the article's title and the full text of the article.\n",
        "3.The output of your script should be a list of dictionaries. Each dictionary should contain the URL, the article title, and the article text.\n",
        "4.Include error checking in your script to handle possible issues with the URLs or the extraction process.\n",
        "\n",
        "Question subparts:\n",
        "\n",
        "1.Implement the above-described script.\n",
        "2.Explain how your script works and the role of the Newspaper3k library in the script.\n",
        "3.How would you handle potential issues, such as a URL that doesn't point to a valid article or network errors?\n",
        "4.Provide a few example URLs and show the output of your script when run with these URLs.\n",
        "\n",
        "Note: Please be mindful of the terms of use for any website you are scraping, and make sure to respect the website's robots.txt file.\n",
        "\n",
        "[25 marks]"
      ],
      "metadata": {
        "id": "0olzwyBPsUyQ"
      }
    },
    {
      "cell_type": "code",
      "source": [],
      "metadata": {
        "id": "7XyTmVE-3juL"
      },
      "execution_count": null,
      "outputs": []
    },
    {
      "cell_type": "markdown",
      "source": [
        "# Question 4\n",
        "\n",
        "Write a reflective report that identifies and discusses what you perceive as the most impactful activity within this course unit, and its contributions to your understanding of an ISYS2001 activity or topic. **Additionally, please incorporate all your weekly journal entries as an appendix to this report.** The report should be prepared in a Microsoft Word document, which will be submitted via the TurnItin link available on Blackboard.\n",
        "\n",
        "**[15 marks]**"
      ],
      "metadata": {
        "id": "YQ0itNBkCClk"
      }
    },
    {
      "cell_type": "code",
      "source": [],
      "metadata": {
        "id": "1MRfZlWQCB_X"
      },
      "execution_count": null,
      "outputs": []
    }
  ]
}